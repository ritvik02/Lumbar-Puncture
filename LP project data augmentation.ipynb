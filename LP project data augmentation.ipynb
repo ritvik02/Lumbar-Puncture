{
 "cells": [
  {
   "cell_type": "code",
   "execution_count": 26,
   "metadata": {
    "id": "B4dZgUbfUG44"
   },
   "outputs": [],
   "source": [
    "import cv2\n",
    "import numpy as np\n",
    "import os\n",
    "import random\n",
    "import pandas as pd\n",
    "import re"
   ]
  },
  {
   "cell_type": "code",
   "execution_count": 17,
   "metadata": {
    "colab": {
     "base_uri": "https://localhost:8080/"
    },
    "id": "yzzdYZ4eUMxz",
    "outputId": "df0325a7-d878-41f0-9bd2-868b144ce6c9"
   },
   "outputs": [
    {
     "name": "stdout",
     "output_type": "stream",
     "text": [
      "Drive already mounted at /content/drive; to attempt to forcibly remount, call drive.mount(\"/content/drive\", force_remount=True).\n"
     ]
    }
   ],
   "source": [
    "from google.colab import drive\n",
    "drive.mount('/content/drive')"
   ]
  },
  {
   "cell_type": "code",
   "execution_count": 18,
   "metadata": {
    "colab": {
     "base_uri": "https://localhost:8080/"
    },
    "id": "UUQV2JLyUTe7",
    "outputId": "6fba30a9-c479-4804-f168-0610f935279d"
   },
   "outputs": [
    {
     "data": {
      "text/plain": [
       "['LPPILOTSITTING2', 'LPPILOTLAT2', 'LPPILOTLAT1', 'AM12']"
      ]
     },
     "execution_count": 18,
     "metadata": {},
     "output_type": "execute_result"
    }
   ],
   "source": [
    "import os\n",
    "\n",
    "folder_path = '/content/drive/MyDrive/dataset'\n",
    "\n",
    "# Check the contents of the folder\n",
    "os.listdir(folder_path)"
   ]
  },
  {
   "cell_type": "code",
   "execution_count": 19,
   "metadata": {
    "id": "xYrbrYhBBjuJ"
   },
   "outputs": [],
   "source": [
    "# Define the root folder in your Google Drive containing subfolders with images\n",
    "root_folder = '/content/drive/MyDrive/dataset'"
   ]
  },
  {
   "cell_type": "code",
   "execution_count": 9,
   "metadata": {
    "colab": {
     "base_uri": "https://localhost:8080/"
    },
    "id": "b0v6HtOhC7Sz",
    "outputId": "2c9f504d-9032-441c-f1cf-e65bbb8eca0e"
   },
   "outputs": [
    {
     "name": "stdout",
     "output_type": "stream",
     "text": [
      "Subfolder 'LPPILOTSITTING2' contains 373 image(s).\n",
      "Subfolder 'LPPILOTLAT2' contains 372 image(s).\n",
      "Subfolder 'LPPILOTLAT1' contains 285 image(s).\n",
      "Subfolder 'AM12' contains 373 image(s).\n"
     ]
    }
   ],
   "source": [
    "#We will now see how many files are there in each folder before augmenting\n",
    "# Loop through each subfolder in the root folder\n",
    "for subfolder in os.listdir(root_folder):\n",
    "    subfolder_path = os.path.join(root_folder, subfolder)\n",
    "\n",
    "    # Check if the subfolder is a directory\n",
    "    if os.path.isdir(subfolder_path):\n",
    "        # Initialize a counter for image files\n",
    "        image_count = 0\n",
    "\n",
    "        # Loop through files in the subfolder\n",
    "        for filename in os.listdir(subfolder_path):\n",
    "            if filename.lower().endswith(('.jpg', '.jpeg', '.png', '.bmp')):\n",
    "                image_count += 1\n",
    "\n",
    "        print(f\"Subfolder '{subfolder}' contains {image_count} image(s).\")"
   ]
  },
  {
   "cell_type": "code",
   "execution_count": 10,
   "metadata": {
    "id": "WsQ8gPrkUakD"
   },
   "outputs": [],
   "source": [
    "# Function to apply random brightness adjustment\n",
    "def random_brightness(image):\n",
    "    brightness_factor = random.uniform(0.5, 2.0)\n",
    "    return cv2.convertScaleAbs(image, alpha=brightness_factor, beta=0)\n",
    "\n",
    "# Function to apply random contrast adjustment\n",
    "def random_contrast(image):\n",
    "    contrast_factor = random.uniform(0.5, 2.0)\n",
    "    return cv2.convertScaleAbs(image, alpha=contrast_factor, beta=0)\n",
    "\n",
    "# Function to apply random left-right flip\n",
    "def random_flip_left_right(image):\n",
    "    if random.choice([True, False]):\n",
    "        return cv2.flip(image, 1)\n",
    "    return image\n",
    "\n",
    "# Function to apply random up-down flip\n",
    "def random_flip_up_down(image):\n",
    "    if random.choice([True, False]):\n",
    "        return cv2.flip(image, 0)\n",
    "    return image\n",
    "\n",
    "# Function to apply random hue adjustment\n",
    "def random_hue(image):\n",
    "    hsv_image = cv2.cvtColor(image, cv2.COLOR_BGR2HSV)\n",
    "    hue_shift = random.randint(-10, 10)\n",
    "    hsv_image[..., 0] = (hsv_image[..., 0] + hue_shift) % 180\n",
    "    return cv2.cvtColor(hsv_image, cv2.COLOR_HSV2BGR)\n",
    "\n",
    "# Function to apply random JPEG quality adjustment\n",
    "def random_jpeg_quality(image):\n",
    "    encode_param = [int(cv2.IMWRITE_JPEG_QUALITY), random.randint(50, 100)]\n",
    "    _, encoded_image = cv2.imencode('.jpg', image, encode_param)\n",
    "    return cv2.imdecode(encoded_image, 1)\n",
    "\n",
    "# Function to apply random saturation adjustment\n",
    "def random_saturation(image):\n",
    "    hsv_image = cv2.cvtColor(image, cv2.COLOR_BGR2HSV)\n",
    "    saturation_factor = random.uniform(0.5, 2.0)\n",
    "    hsv_image[..., 1] = np.clip(hsv_image[..., 1] * saturation_factor, 0, 255)\n",
    "    return cv2.cvtColor(hsv_image, cv2.COLOR_HSV2BGR)"
   ]
  },
  {
   "cell_type": "code",
   "execution_count": 11,
   "metadata": {
    "id": "vVB-VhxMUqd7"
   },
   "outputs": [],
   "source": [
    "# Loop through each subfolder in the root folder\n",
    "for subfolder in os.listdir(root_folder):\n",
    "    subfolder_path = os.path.join(root_folder, subfolder)\n",
    "\n",
    "    # Check if the subfolder is a directory\n",
    "    if os.path.isdir(subfolder_path):\n",
    "        # Loop through image files in the subfolder\n",
    "        for filename in os.listdir(subfolder_path):\n",
    "            if filename.lower().endswith(('.jpg', '.jpeg', '.png', '.bmp')):\n",
    "                image_path = os.path.join(subfolder_path, filename)\n",
    "\n",
    "                # Load the image\n",
    "                image = cv2.imread(image_path)\n",
    "\n",
    "                # Apply random augmentations\n",
    "                augmented_brightness = random_brightness(image)\n",
    "                augmented_contrast = random_contrast(image)\n",
    "                augmented_flip_lr = random_flip_left_right(image)\n",
    "                augmented_flip_ud = random_flip_up_down(image)\n",
    "                augmented_hue = random_hue(image)\n",
    "                augmented_jpeg_quality = random_jpeg_quality(image)\n",
    "                augmented_saturation = random_saturation(image)\n",
    "\n",
    "                # Save the augmented images in the same subfolder\n",
    "                output_folder = subfolder_path\n",
    "                cv2.imwrite(os.path.join(output_folder, f'{filename}_augmented_brightness.jpg'), augmented_brightness)\n",
    "                cv2.imwrite(os.path.join(output_folder, f'{filename}_augmented_contrast.jpg'), augmented_contrast)\n",
    "                cv2.imwrite(os.path.join(output_folder, f'{filename}_augmented_flip_lr.jpg'), augmented_flip_lr)\n",
    "                cv2.imwrite(os.path.join(output_folder, f'{filename}_augmented_flip_ud.jpg'), augmented_flip_ud)\n",
    "                cv2.imwrite(os.path.join(output_folder, f'{filename}_augmented_hue.jpg'), augmented_hue)\n",
    "                cv2.imwrite(os.path.join(output_folder, f'{filename}_augmented_jpeg_quality.jpg'), augmented_jpeg_quality)\n",
    "                cv2.imwrite(os.path.join(output_folder, f'{filename}_augmented_saturation.jpg'), augmented_saturation)\n"
   ]
  },
  {
   "cell_type": "code",
   "execution_count": 12,
   "metadata": {
    "colab": {
     "base_uri": "https://localhost:8080/"
    },
    "id": "B5vYlliYW5Sv",
    "outputId": "ce8be1d2-ea21-4d7b-9b62-3ed312264425"
   },
   "outputs": [
    {
     "name": "stdout",
     "output_type": "stream",
     "text": [
      "Subfolder 'LPPILOTSITTING2' contains 2984 image(s).\n",
      "Subfolder 'LPPILOTLAT2' contains 2976 image(s).\n",
      "Subfolder 'LPPILOTLAT1' contains 2280 image(s).\n",
      "Subfolder 'AM12' contains 2984 image(s).\n"
     ]
    }
   ],
   "source": [
    "# Loop through each subfolder in the root folder\n",
    "for subfolder in os.listdir(root_folder):\n",
    "    subfolder_path = os.path.join(root_folder, subfolder)\n",
    "\n",
    "    # Check if the subfolder is a directory\n",
    "    if os.path.isdir(subfolder_path):\n",
    "        # Initialize a counter for image files\n",
    "        image_count = 0\n",
    "\n",
    "        # Loop through files in the subfolder\n",
    "        for filename in os.listdir(subfolder_path):\n",
    "            if filename.lower().endswith(('.jpg', '.jpeg', '.png', '.bmp')):\n",
    "                image_count += 1\n",
    "\n",
    "        print(f\"Subfolder '{subfolder}' contains {image_count} image(s).\")"
   ]
  },
  {
   "cell_type": "markdown",
   "metadata": {
    "id": "7J9BEt5oDFPi"
   },
   "source": [
    "Duplicating the Labels"
   ]
  },
  {
   "cell_type": "code",
   "execution_count": null,
   "metadata": {
    "id": "F0Yk7vRWsl8E"
   },
   "outputs": [],
   "source": [
    "# Define the path to the label Excel file\n",
    "label_folder = '/content/drive/MyDrive/Label'\n",
    "label_file = 'shortaxis_binary.xlsx'\n",
    "xl = pd.ExcelFile(os.path.join(label_folder, label_file))"
   ]
  },
  {
   "cell_type": "code",
   "execution_count": null,
   "metadata": {
    "id": "zIi7yeJpsprM"
   },
   "outputs": [],
   "source": [
    "# Define the path to the dataset folder\n",
    "dataset_root = '/content/drive/MyDrive/dataset'"
   ]
  },
  {
   "cell_type": "code",
   "execution_count": null,
   "metadata": {
    "id": "vZKBk_irssHz"
   },
   "outputs": [],
   "source": [
    "# Create a dictionary to store DataFrames for different subfolders\n",
    "subfolder_dfs = {}"
   ]
  },
  {
   "cell_type": "code",
   "execution_count": 32,
   "metadata": {
    "colab": {
     "base_uri": "https://localhost:8080/"
    },
    "id": "8UHF1BYfqrC2",
    "outputId": "4931cd60-0811-4ef8-f2b2-a1a4454de62f"
   },
   "outputs": [
    {
     "name": "stderr",
     "output_type": "stream",
     "text": [
      "<ipython-input-32-c87c2a1ded41>:29: SettingWithCopyWarning: \n",
      "A value is trying to be set on a copy of a slice from a DataFrame.\n",
      "Try using .loc[row_indexer,col_indexer] = value instead\n",
      "\n",
      "See the caveats in the documentation: https://pandas.pydata.org/pandas-docs/stable/user_guide/indexing.html#returning-a-view-versus-a-copy\n",
      "  matching_rows['FILENAME'] = filename\n",
      "<ipython-input-32-c87c2a1ded41>:29: SettingWithCopyWarning: \n",
      "A value is trying to be set on a copy of a slice from a DataFrame.\n",
      "Try using .loc[row_indexer,col_indexer] = value instead\n",
      "\n",
      "See the caveats in the documentation: https://pandas.pydata.org/pandas-docs/stable/user_guide/indexing.html#returning-a-view-versus-a-copy\n",
      "  matching_rows['FILENAME'] = filename\n",
      "<ipython-input-32-c87c2a1ded41>:29: SettingWithCopyWarning: \n",
      "A value is trying to be set on a copy of a slice from a DataFrame.\n",
      "Try using .loc[row_indexer,col_indexer] = value instead\n",
      "\n",
      "See the caveats in the documentation: https://pandas.pydata.org/pandas-docs/stable/user_guide/indexing.html#returning-a-view-versus-a-copy\n",
      "  matching_rows['FILENAME'] = filename\n",
      "<ipython-input-32-c87c2a1ded41>:29: SettingWithCopyWarning: \n",
      "A value is trying to be set on a copy of a slice from a DataFrame.\n",
      "Try using .loc[row_indexer,col_indexer] = value instead\n",
      "\n",
      "See the caveats in the documentation: https://pandas.pydata.org/pandas-docs/stable/user_guide/indexing.html#returning-a-view-versus-a-copy\n",
      "  matching_rows['FILENAME'] = filename\n"
     ]
    }
   ],
   "source": [
    "# Create a dictionary to store DataFrames for different subfolders\n",
    "subfolder_dfs = {}\n",
    "\n",
    "# Iterate through subfolders in the dataset_root\n",
    "for subfolder in os.listdir(dataset_root):\n",
    "    subfolder_path = os.path.join(dataset_root, subfolder)\n",
    "\n",
    "    if os.path.isdir(subfolder_path):\n",
    "        # Extract the subfolder name and match it to the Excel tab\n",
    "        tab_name = subfolder\n",
    "        if tab_name in xl.sheet_names:\n",
    "            # Read the corresponding Excel tab\n",
    "            subfolder_df = xl.parse(tab_name)\n",
    "\n",
    "            # Create a list to store modified rows\n",
    "            modified_rows = []\n",
    "\n",
    "            # Loop through the image files in the subfolder\n",
    "            for filename in os.listdir(subfolder_path):\n",
    "                if filename.lower().endswith(('.jpg', '.jpeg', '.png', '.bmp')):\n",
    "                    # Extract the digits from the image file name (e.g., '206' from '206.jpg')\n",
    "                    image_number = re.match(r'^\\d+', filename).group()\n",
    "\n",
    "                    # Find the corresponding row in the Excel tab based on the extracted digits\n",
    "                    matching_rows = subfolder_df[subfolder_df['FILENAME'].str.contains(f'_{image_number}\\.')]\n",
    "\n",
    "                    if not matching_rows.empty:\n",
    "                        # Update the 'FILENAME' column with the image name\n",
    "                        matching_rows['FILENAME'] = filename\n",
    "                        modified_rows.append(matching_rows)\n",
    "\n",
    "            # Concatenate the modified rows and store them in the subfolder DataFrame\n",
    "            if modified_rows:\n",
    "                subfolder_result_df = pd.concat(modified_rows, ignore_index=True)\n",
    "                subfolder_dfs[subfolder] = subfolder_result_df\n"
   ]
  },
  {
   "cell_type": "code",
   "execution_count": 34,
   "metadata": {
    "colab": {
     "base_uri": "https://localhost:8080/"
    },
    "id": "bmB7Ub_qq2oc",
    "outputId": "5b546c1b-0a91-4ffd-b102-4b71097cd291"
   },
   "outputs": [
    {
     "name": "stdout",
     "output_type": "stream",
     "text": [
      "Results saved as separate Excel files for different subfolders in the label folder.\n"
     ]
    }
   ],
   "source": [
    "# Save the results for different subfolders in the label folder\n",
    "for subfolder, subfolder_df in subfolder_dfs.items():\n",
    "    output_file = os.path.join(label_folder, f'{subfolder}.xlsx')\n",
    "    subfolder_df.to_excel(output_file, index=False)\n",
    "\n",
    "print(\"Results saved as separate Excel files for different subfolders in the label folder.\")"
   ]
  }
 ],
 "metadata": {
  "colab": {
   "provenance": []
  },
  "kernelspec": {
   "display_name": "Python 3 (ipykernel)",
   "language": "python",
   "name": "python3"
  },
  "language_info": {
   "codemirror_mode": {
    "name": "ipython",
    "version": 3
   },
   "file_extension": ".py",
   "mimetype": "text/x-python",
   "name": "python",
   "nbconvert_exporter": "python",
   "pygments_lexer": "ipython3",
   "version": "3.9.12"
  }
 },
 "nbformat": 4,
 "nbformat_minor": 1
}
