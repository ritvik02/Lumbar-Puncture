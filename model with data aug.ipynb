{
  "nbformat": 4,
  "nbformat_minor": 0,
  "metadata": {
    "colab": {
      "provenance": [],
      "gpuType": "T4"
    },
    "kernelspec": {
      "name": "python3",
      "display_name": "Python 3"
    },
    "language_info": {
      "name": "python"
    },
    "accelerator": "GPU"
  },
  "cells": [
    {
      "cell_type": "code",
      "execution_count": null,
      "metadata": {
        "id": "PPtcF6UbQkWz",
        "colab": {
          "base_uri": "https://localhost:8080/"
        },
        "outputId": "81e9be84-269e-4e1c-ae18-453bcbbdd317"
      },
      "outputs": [
        {
          "output_type": "stream",
          "name": "stdout",
          "text": [
            "Mounted at /content/drive\n"
          ]
        }
      ],
      "source": [
        "import os\n",
        "import pandas as pd\n",
        "import torch\n",
        "import torch.nn as nn\n",
        "from torchvision.models import resnet18, ResNet18_Weights\n",
        "import torchvision.transforms as transforms\n",
        "from torch.utils.data import Dataset, DataLoader, random_split\n",
        "from PIL import Image\n",
        "from sklearn.metrics import accuracy_score, precision_score, recall_score, f1_score, roc_auc_score\n",
        "from tqdm import tqdm\n",
        "import numpy as np\n",
        "from sklearn.metrics import classification_report\n",
        "import matplotlib.pyplot as plt\n",
        "\n",
        "from google.colab import drive\n",
        "drive.mount('/content/drive')\n",
        "\n",
        "# Define Custom Dataset\n",
        "class CustomDataset(Dataset):\n",
        "    def __init__(self, root_dir, sub_folder, transform):\n",
        "        self.root_dir = root_dir\n",
        "        self.sub_folder = sub_folder\n",
        "        self.transform = transform\n",
        "        self.image_paths = []\n",
        "        self.labels = []\n",
        "\n",
        "        # Iterate through the video folders\n",
        "        for video_folder in os.listdir(os.path.join(root_dir, sub_folder)):\n",
        "            if os.path.isdir(os.path.join(root_dir, sub_folder, video_folder)):\n",
        "                video_path = os.path.join(root_dir, sub_folder, video_folder)   # DSI_research/video/AM12\n",
        "                label_file = os.path.join(root_dir, 'Label',f'{video_folder}.xlsx')   #DSI_research/shortaxis_binary.xlsx\n",
        "                labels_df = pd.read_excel(label_file)\n",
        "\n",
        "                # Iterate through image files and corresponding labels\n",
        "                for img_filename in os.listdir(video_path):   #video_path = DSI_research/video/AM12\n",
        "                    if img_filename.endswith(\".jpg\"):\n",
        "                        img_path = os.path.join(video_path, img_filename)   #dataset/AM12/0.jpg_xxxxx.jpg\n",
        "                        # frame_idx = int(os.path.splitext(img_filename)[0]) #splitting 0.jpg and storing 0 to frame_idx\n",
        "                        root, ext = os.path.splitext(img_filename)  # Split 0.jpg_xxxxx.jpg into root and extension\n",
        "                        # frame_idx = int(root.split('.')[0]) #splitting 0.jpg_xxxxx and storing 0 to frame_idx\n",
        "                        labels = labels_df.loc[labels_df['FILENAME']==img_filename, ['BAD QUALITY','CORD','FLUID']].values.astype('float32').squeeze()\n",
        "\n",
        "                        self.image_paths.append(img_path)\n",
        "                        self.labels.append(labels)\n",
        "\n",
        "    def __len__(self):\n",
        "        return len(self.image_paths)\n",
        "\n",
        "    def __getitem__(self, idx):\n",
        "        img_path = self.image_paths[idx]\n",
        "        image = Image.open(img_path).convert('RGB')\n",
        "        labels = self.labels[idx]\n",
        "\n",
        "        if self.transform:\n",
        "            image = self.transform(image)\n",
        "\n",
        "        return image, labels\n",
        "\n",
        "\n",
        "# Initialize Dataset and Dataloader\n",
        "def initialize_data(root_dir, sub_folder):\n",
        "    # Define image transformations\n",
        "    transform = transforms.Compose([transforms.Resize((224, 224)), transforms.ToTensor(),])\n",
        "    train_dataset = CustomDataset(root_dir, sub_folder = sub_folder, transform=transform)\n",
        "    print('data size:', len(train_dataset))\n",
        "\n",
        "    # Define the sizes for training, validation, and test sets\n",
        "    total_size = len(train_dataset)\n",
        "    train_size = int(0.8 * total_size)\n",
        "    val_size = int(0.1 * total_size)\n",
        "    test_size = total_size - train_size - val_size\n",
        "\n",
        "    # Use random_split to split the dataset\n",
        "    # torch.cuda.manual_seed_all(0)  # Setting the random seed\n",
        "    train_subset, val_subset, test_subset = random_split(train_dataset, [train_size, val_size, test_size])\n",
        "\n",
        "    # Create data loaders for each subset\n",
        "    batch_size = 64  # Adjust as needed\n",
        "    train_loader = DataLoader(train_subset, batch_size=batch_size, shuffle=True)\n",
        "    val_loader = DataLoader(val_subset, batch_size=batch_size, shuffle=False)\n",
        "    test_loader = DataLoader(test_subset, batch_size=batch_size, shuffle=False)\n",
        "\n",
        "    return train_loader, val_loader, test_loader\n",
        "\n",
        "# Define Model\n",
        "class CustomResNet(nn.Module):\n",
        "    def __init__(self, num_classes):\n",
        "        super(CustomResNet, self).__init__()\n",
        "        self.resnet = resnet18(weights=ResNet18_Weights.IMAGENET1K_V1)\n",
        "        num_features = self.resnet.fc.in_features\n",
        "        self.resnet.fc = nn.Sequential(\n",
        "            nn.Linear(num_features, num_classes),\n",
        "            nn.Sigmoid()  # Sigmoid activation for multi-label classification\n",
        "        )\n",
        "\n",
        "    def forward(self, x):\n",
        "        return self.resnet(x)\n",
        "\n",
        "# Train Model\n",
        "def train_model(train_loader, val_loader, model, criterion, optimizer, num_epochs):\n",
        "    global num_classes\n",
        "    global device\n",
        "    train_losses = []\n",
        "    train_accuracies = []\n",
        "    val_losses = []\n",
        "    val_accuracies = []\n",
        "\n",
        "    for epoch in range(num_epochs):\n",
        "        model.train()\n",
        "        # Initialize loss and accuracy variables for this epoch\n",
        "        running_loss = 0.0\n",
        "        correct_predictions = 0\n",
        "\n",
        "        # Initialize the progress bar\n",
        "        train_progress_bar = tqdm(train_loader, total=len(train_loader), desc=f'Epoch {epoch + 1}', position=0,leave=True)\n",
        "\n",
        "        for images, labels in train_progress_bar:\n",
        "            images, labels = images.to(device), labels.to(device)  # Move data to GPU\n",
        "            optimizer.zero_grad()\n",
        "            outputs = model(images)\n",
        "            predicts = (outputs > 0.5).float()\n",
        "            acc = (predicts == labels).sum().item() / (images.size(0) * num_classes)\n",
        "            loss = criterion(outputs, labels)\n",
        "            loss.backward()\n",
        "            optimizer.step()\n",
        "\n",
        "            train_loss = loss.item()\n",
        "            running_loss += train_loss * images.size(0)\n",
        "            correct_predictions += acc * images.size(0)\n",
        "\n",
        "            # Update the progress bar with the loss and accuracy\n",
        "            train_progress_bar.set_postfix({'Batch Loss': train_loss, 'Batch Accuracy': acc})\n",
        "\n",
        "        # Calculate average loss and accuracy for the epoch\n",
        "        epoch_loss = running_loss / len(train_loader.dataset)\n",
        "        epoch_accuracy = correct_predictions / len(train_loader.dataset)\n",
        "        train_losses.append(epoch_loss)\n",
        "        train_accuracies.append(epoch_accuracy)\n",
        "\n",
        "        print(f'Epoch {epoch+1}/{num_epochs} - Loss: {epoch_loss:.4f}, Accuracy: {epoch_accuracy:.4f}')\n",
        "\n",
        "        # Validation loop\n",
        "        print('Validation:')\n",
        "        model.eval()\n",
        "        val_running_loss = 0.0\n",
        "        val_correct_predictions = 0\n",
        "\n",
        "        # Initialize the progress bar for validation\n",
        "        val_progress_bar = tqdm(val_loader, total=len(val_loader), desc=f'Epoch {epoch + 1}', position=0,leave=True)\n",
        "\n",
        "        with torch.no_grad():\n",
        "            for images, labels in val_progress_bar:\n",
        "                images, labels = images.to(device), labels.to(device)\n",
        "                outputs = model(images)\n",
        "                predicts = (outputs > 0.5).float()\n",
        "                acc = (predicts == labels).sum().item() / (images.size(0) * num_classes)\n",
        "                loss = criterion(outputs, labels)\n",
        "\n",
        "                val_loss = loss.item()\n",
        "                val_running_loss += val_loss * images.size(0)\n",
        "                val_correct_predictions += acc * images.size(0)\n",
        "\n",
        "                # Update the progress bar with the loss and accuracy\n",
        "                val_progress_bar.set_postfix({'Batch Loss': val_loss, 'Batch Accuracy': acc})\n",
        "        # Calculate average loss and accuracy for the validation\n",
        "        val_epoch_loss = val_running_loss / len(val_loader.dataset)\n",
        "        val_epoch_accuracy = val_correct_predictions / len(val_loader.dataset)\n",
        "        val_losses.append(val_epoch_loss)\n",
        "        val_accuracies.append(val_epoch_accuracy)\n",
        "\n",
        "        print(f'Validation Epoch {epoch+1}/{num_epochs} - Loss: {val_epoch_loss:.4f}, Accuracy: {val_epoch_accuracy:.4f}')\n",
        "        print('------------------------------------------------------------------------------------------------')\n",
        "\n",
        "    return train_losses, train_accuracies, val_losses, val_accuracies\n",
        "\n",
        "# Test Model\n",
        "def test_model(test_loader, model, criterion):\n",
        "    global num_classes\n",
        "    global device\n",
        "    # Initialize variables to store predictions and true labels\n",
        "    all_preds = []\n",
        "    all_labels = []\n",
        "\n",
        "    # Test loop\n",
        "    model.eval()  # Set the model to evaluation mode\n",
        "    test_running_loss = 0.0\n",
        "    test_correct_predictions = 0\n",
        "\n",
        "    # Initialize the progress bar for testing\n",
        "    test_progress_bar = tqdm(test_loader, total=len(test_loader), desc='Testing', position=0, leave=True)\n",
        "\n",
        "    with torch.no_grad():\n",
        "        for images, labels in test_progress_bar:\n",
        "            images, labels = images.to(device), labels.to(device)\n",
        "            outputs = model(images)\n",
        "            predicts = (outputs > 0.5).float()\n",
        "\n",
        "            # Store predictions and true labels for later metrics calculation\n",
        "            all_preds.extend(predicts.cpu().numpy())\n",
        "            all_labels.extend(labels.cpu().numpy())\n",
        "\n",
        "            acc = (predicts == labels).sum().item() / (images.size(0) * num_classes)\n",
        "            loss = criterion(outputs, labels)\n",
        "\n",
        "            test_loss = loss.item()\n",
        "            test_running_loss += test_loss * images.size(0)\n",
        "            test_correct_predictions += acc * images.size(0)\n",
        "\n",
        "            # Update the progress bar with the loss and accuracy\n",
        "            test_progress_bar.set_postfix({'Batch Loss': test_loss, 'Batch Accuracy': acc})\n",
        "\n",
        "    # Calculate average loss and accuracy for the test set\n",
        "    test_epoch_loss = test_running_loss / len(test_loader.dataset)\n",
        "    test_epoch_accuracy = test_correct_predictions / len(test_loader.dataset)\n",
        "\n",
        "    # Calculate other metrics\n",
        "    precision = precision_score(np.array(all_labels).flatten(), np.array(all_preds).flatten())\n",
        "    recall = recall_score(np.array(all_labels).flatten(), np.array(all_preds).flatten())\n",
        "    f1 = f1_score(np.array(all_labels).flatten(), np.array(all_preds).flatten())\n",
        "    roc_auc = roc_auc_score(np.array(all_labels).flatten(), np.array(all_preds).flatten())\n",
        "\n",
        "    print(\"\\n\" + \"=\"*50)\n",
        "    print(f'Test Metrics:')\n",
        "    print(f'{\"-\"*50}')\n",
        "    print(f'Loss      : {test_epoch_loss:.4f}')\n",
        "    print(f'Accuracy  : {test_epoch_accuracy:.4f}')\n",
        "    print(f'Precision : {precision:.4f}')\n",
        "    print(f'Recall    : {recall:.4f}')\n",
        "    print(f'F1 Score  : {f1:.4f}')\n",
        "    print(f'ROC AUC   : {roc_auc:.4f}')\n",
        "    print(\"=\"*50)\n",
        "\n",
        "    # Initialize variables to store class-wise metrics\n",
        "    class_precisions = []\n",
        "    class_recalls = []\n",
        "    class_f1s = []\n",
        "    class_roc_aucs = []\n",
        "\n",
        "    # Calculate metrics for each class\n",
        "    num_classes = np.array(all_labels).shape[1]  # Assuming all_labels is a 2D array\n",
        "    for i in range(num_classes):\n",
        "        y_true = np.array(all_labels)[:, i]\n",
        "        y_pred = np.array(all_preds)[:, i]\n",
        "\n",
        "        precision = precision_score(y_true, y_pred, zero_division=0)\n",
        "        recall = recall_score(y_true, y_pred, zero_division=0)\n",
        "        f1 = f1_score(y_true, y_pred, zero_division=0)\n",
        "        roc_auc = roc_auc_score(y_true, y_pred)\n",
        "\n",
        "        class_precisions.append(precision)\n",
        "        class_recalls.append(recall)\n",
        "        class_f1s.append(f1)\n",
        "        class_roc_aucs.append(roc_auc)\n",
        "\n",
        "        print(f\"Metrics for class {i}:\")\n",
        "        print(f\"  Precision : {precision:.4f}\")\n",
        "        print(f\"  Recall    : {recall:.4f}\")\n",
        "        print(f\"  F1 Score  : {f1:.4f}\")\n",
        "        print(f\"  ROC AUC   : {roc_auc:.4f}\")\n",
        "        print(\"-\"*20)\n",
        "\n",
        "    # If you want a summary report\n",
        "    print(\"Summary Classification Report:\")\n",
        "    print(classification_report(np.array(all_labels), np.array(all_preds), zero_division=0))\n",
        "\n",
        "# Main function to run the whole pipeline\n",
        "def main(root_dir, sub_folder, num_epochs):\n",
        "    # Initialize Data\n",
        "    train_loader, val_loader, test_loader = initialize_data(root_dir, sub_folder)\n",
        "\n",
        "    # Initialize Model, Loss, and Optimizer\n",
        "    global device\n",
        "    model = CustomResNet(num_classes).to(device)\n",
        "    criterion = nn.BCELoss()\n",
        "    optimizer = torch.optim.Adam(model.parameters(), lr=0.01)\n",
        "\n",
        "    # Train Model\n",
        "    # train_model(train_loader, val_loader, model, criterion, optimizer, num_epochs=5)\n",
        "    train_losses, train_accuracies, val_losses, val_accuracies = train_model(train_loader, val_loader, model, criterion, optimizer, num_epochs=num_epochs)\n",
        "\n",
        "    # Plotting the training and validation loss\n",
        "    plt.figure(figsize=(10, 5))\n",
        "    plt.subplot(1, 2, 1)\n",
        "    plt.plot(train_losses, label='Train Loss')\n",
        "    plt.plot(val_losses, label='Validation Loss')\n",
        "    plt.title('Epoch vs Loss')\n",
        "    plt.xlabel('Epochs')\n",
        "    plt.ylabel('Loss')\n",
        "    plt.grid()\n",
        "    plt.legend()\n",
        "\n",
        "    # Plotting the training and validation accuracy\n",
        "    plt.subplot(1, 2, 2)\n",
        "    plt.plot(train_accuracies, label='Train Accuracy')\n",
        "    plt.plot(val_accuracies, label='Validation Accuracy')\n",
        "    plt.title('Epoch vs Accuracy')\n",
        "    plt.xlabel('Epochs')\n",
        "    plt.ylabel('Accuracy')\n",
        "    plt.legend()\n",
        "    plt.grid()\n",
        "    plt.tight_layout()\n",
        "    plt.show()\n",
        "\n",
        "    # Test Model\n",
        "    test_model(test_loader, model, criterion)\n"
      ]
    },
    {
      "cell_type": "code",
      "source": [
        "if __name__ == \"__main__\":\n",
        "    # Define root directory and sub-folder name\n",
        "    # root_dir = '/content/drive/Othercomputers/My Mac/DSI_research'\n",
        "    root_dir = '/content/drive/MyDrive'\n",
        "    sub_folder = 'dataset'\n",
        "    num_classes=3\n",
        "    device = torch.device(\"cuda\" if torch.cuda.is_available() else \"cpu\")\n",
        "\n",
        "    # Run the main function\n",
        "    main(root_dir, sub_folder,10)"
      ],
      "metadata": {
        "id": "KdeeiXG2QofE",
        "colab": {
          "base_uri": "https://localhost:8080/",
          "height": 1000
        },
        "outputId": "f5aaab57-99a0-47bd-ef82-4f153a250248"
      },
      "execution_count": null,
      "outputs": [
        {
          "metadata": {
            "tags": null
          },
          "name": "stdout",
          "output_type": "stream",
          "text": [
            "data size: 11224\n"
          ]
        },
        {
          "output_type": "stream",
          "name": "stderr",
          "text": [
            "Downloading: \"https://download.pytorch.org/models/resnet18-f37072fd.pth\" to /root/.cache/torch/hub/checkpoints/resnet18-f37072fd.pth\n",
            "100%|██████████| 44.7M/44.7M [00:00<00:00, 156MB/s]\n",
            "Epoch 1: 100%|██████████| 141/141 [2:08:23<00:00, 54.64s/it, Batch Loss=0.263, Batch Accuracy=0.947]\n"
          ]
        },
        {
          "output_type": "stream",
          "name": "stdout",
          "text": [
            "Epoch 1/10 - Loss: 0.3232, Accuracy: 0.8902\n",
            "Validation:\n"
          ]
        },
        {
          "output_type": "stream",
          "name": "stderr",
          "text": [
            "Epoch 1: 100%|██████████| 18/18 [15:17<00:00, 51.00s/it, Batch Loss=0.319, Batch Accuracy=0.902]\n"
          ]
        },
        {
          "output_type": "stream",
          "name": "stdout",
          "text": [
            "Validation Epoch 1/10 - Loss: 0.1988, Accuracy: 0.9447\n",
            "------------------------------------------------------------------------------------------------\n"
          ]
        },
        {
          "output_type": "stream",
          "name": "stderr",
          "text": [
            "Epoch 2: 100%|██████████| 141/141 [01:17<00:00,  1.82it/s, Batch Loss=0.061, Batch Accuracy=0.982]\n"
          ]
        },
        {
          "output_type": "stream",
          "name": "stdout",
          "text": [
            "Epoch 2/10 - Loss: 0.1078, Accuracy: 0.9615\n",
            "Validation:\n"
          ]
        },
        {
          "output_type": "stream",
          "name": "stderr",
          "text": [
            "Epoch 2: 100%|██████████| 18/18 [00:08<00:00,  2.21it/s, Batch Loss=0.157, Batch Accuracy=0.931]\n"
          ]
        },
        {
          "output_type": "stream",
          "name": "stdout",
          "text": [
            "Validation Epoch 2/10 - Loss: 0.1485, Accuracy: 0.9355\n",
            "------------------------------------------------------------------------------------------------\n"
          ]
        },
        {
          "output_type": "stream",
          "name": "stderr",
          "text": [
            "Epoch 3: 100%|██████████| 141/141 [01:18<00:00,  1.81it/s, Batch Loss=0.0929, Batch Accuracy=0.965]\n"
          ]
        },
        {
          "output_type": "stream",
          "name": "stdout",
          "text": [
            "Epoch 3/10 - Loss: 0.0616, Accuracy: 0.9781\n",
            "Validation:\n"
          ]
        },
        {
          "output_type": "stream",
          "name": "stderr",
          "text": [
            "Epoch 3: 100%|██████████| 18/18 [00:07<00:00,  2.32it/s, Batch Loss=0.0947, Batch Accuracy=0.98]\n"
          ]
        },
        {
          "output_type": "stream",
          "name": "stdout",
          "text": [
            "Validation Epoch 3/10 - Loss: 0.1345, Accuracy: 0.9519\n",
            "------------------------------------------------------------------------------------------------\n"
          ]
        },
        {
          "output_type": "stream",
          "name": "stderr",
          "text": [
            "Epoch 4: 100%|██████████| 141/141 [01:17<00:00,  1.81it/s, Batch Loss=0.00558, Batch Accuracy=1]\n"
          ]
        },
        {
          "output_type": "stream",
          "name": "stdout",
          "text": [
            "Epoch 4/10 - Loss: 0.0455, Accuracy: 0.9833\n",
            "Validation:\n"
          ]
        },
        {
          "output_type": "stream",
          "name": "stderr",
          "text": [
            "Epoch 4: 100%|██████████| 18/18 [00:07<00:00,  2.32it/s, Batch Loss=0.00914, Batch Accuracy=1]\n"
          ]
        },
        {
          "output_type": "stream",
          "name": "stdout",
          "text": [
            "Validation Epoch 4/10 - Loss: 0.0529, Accuracy: 0.9813\n",
            "------------------------------------------------------------------------------------------------\n"
          ]
        },
        {
          "output_type": "stream",
          "name": "stderr",
          "text": [
            "Epoch 5: 100%|██████████| 141/141 [01:17<00:00,  1.81it/s, Batch Loss=0.0074, Batch Accuracy=1]\n"
          ]
        },
        {
          "output_type": "stream",
          "name": "stdout",
          "text": [
            "Epoch 5/10 - Loss: 0.0333, Accuracy: 0.9871\n",
            "Validation:\n"
          ]
        },
        {
          "output_type": "stream",
          "name": "stderr",
          "text": [
            "Epoch 5: 100%|██████████| 18/18 [00:08<00:00,  2.23it/s, Batch Loss=0.00413, Batch Accuracy=1]\n"
          ]
        },
        {
          "output_type": "stream",
          "name": "stdout",
          "text": [
            "Validation Epoch 5/10 - Loss: 0.0405, Accuracy: 0.9860\n",
            "------------------------------------------------------------------------------------------------\n"
          ]
        },
        {
          "output_type": "stream",
          "name": "stderr",
          "text": [
            "Epoch 6: 100%|██████████| 141/141 [01:18<00:00,  1.81it/s, Batch Loss=0.254, Batch Accuracy=0.912]\n"
          ]
        },
        {
          "output_type": "stream",
          "name": "stdout",
          "text": [
            "Epoch 6/10 - Loss: 0.0246, Accuracy: 0.9910\n",
            "Validation:\n"
          ]
        },
        {
          "output_type": "stream",
          "name": "stderr",
          "text": [
            "Epoch 6: 100%|██████████| 18/18 [00:07<00:00,  2.42it/s, Batch Loss=0.0218, Batch Accuracy=1]\n"
          ]
        },
        {
          "output_type": "stream",
          "name": "stdout",
          "text": [
            "Validation Epoch 6/10 - Loss: 0.0544, Accuracy: 0.9854\n",
            "------------------------------------------------------------------------------------------------\n"
          ]
        },
        {
          "output_type": "stream",
          "name": "stderr",
          "text": [
            "Epoch 7: 100%|██████████| 141/141 [01:18<00:00,  1.80it/s, Batch Loss=0.0108, Batch Accuracy=1]\n"
          ]
        },
        {
          "output_type": "stream",
          "name": "stdout",
          "text": [
            "Epoch 7/10 - Loss: 0.0343, Accuracy: 0.9874\n",
            "Validation:\n"
          ]
        },
        {
          "output_type": "stream",
          "name": "stderr",
          "text": [
            "Epoch 7: 100%|██████████| 18/18 [00:08<00:00,  2.21it/s, Batch Loss=0.0354, Batch Accuracy=0.98]\n"
          ]
        },
        {
          "output_type": "stream",
          "name": "stdout",
          "text": [
            "Validation Epoch 7/10 - Loss: 0.0458, Accuracy: 0.9848\n",
            "------------------------------------------------------------------------------------------------\n"
          ]
        },
        {
          "output_type": "stream",
          "name": "stderr",
          "text": [
            "Epoch 8: 100%|██████████| 141/141 [01:18<00:00,  1.81it/s, Batch Loss=0.00622, Batch Accuracy=1]\n"
          ]
        },
        {
          "output_type": "stream",
          "name": "stdout",
          "text": [
            "Epoch 8/10 - Loss: 0.0201, Accuracy: 0.9926\n",
            "Validation:\n"
          ]
        },
        {
          "output_type": "stream",
          "name": "stderr",
          "text": [
            "Epoch 8: 100%|██████████| 18/18 [00:08<00:00,  2.22it/s, Batch Loss=0.00547, Batch Accuracy=1]\n"
          ]
        },
        {
          "output_type": "stream",
          "name": "stdout",
          "text": [
            "Validation Epoch 8/10 - Loss: 0.0190, Accuracy: 0.9929\n",
            "------------------------------------------------------------------------------------------------\n"
          ]
        },
        {
          "output_type": "stream",
          "name": "stderr",
          "text": [
            "Epoch 9: 100%|██████████| 141/141 [01:18<00:00,  1.79it/s, Batch Loss=0.0248, Batch Accuracy=0.982]\n"
          ]
        },
        {
          "output_type": "stream",
          "name": "stdout",
          "text": [
            "Epoch 9/10 - Loss: 0.0145, Accuracy: 0.9943\n",
            "Validation:\n"
          ]
        },
        {
          "output_type": "stream",
          "name": "stderr",
          "text": [
            "Epoch 9: 100%|██████████| 18/18 [00:07<00:00,  2.40it/s, Batch Loss=0.00953, Batch Accuracy=1]\n"
          ]
        },
        {
          "output_type": "stream",
          "name": "stdout",
          "text": [
            "Validation Epoch 9/10 - Loss: 0.0395, Accuracy: 0.9914\n",
            "------------------------------------------------------------------------------------------------\n"
          ]
        },
        {
          "output_type": "stream",
          "name": "stderr",
          "text": [
            "Epoch 10: 100%|██████████| 141/141 [01:19<00:00,  1.77it/s, Batch Loss=0.00654, Batch Accuracy=1]\n"
          ]
        },
        {
          "output_type": "stream",
          "name": "stdout",
          "text": [
            "Epoch 10/10 - Loss: 0.0222, Accuracy: 0.9922\n",
            "Validation:\n"
          ]
        },
        {
          "output_type": "stream",
          "name": "stderr",
          "text": [
            "Epoch 10: 100%|██████████| 18/18 [00:08<00:00,  2.19it/s, Batch Loss=0.00932, Batch Accuracy=1]\n"
          ]
        },
        {
          "output_type": "stream",
          "name": "stdout",
          "text": [
            "Validation Epoch 10/10 - Loss: 0.0205, Accuracy: 0.9923\n",
            "------------------------------------------------------------------------------------------------\n"
          ]
        },
        {
          "output_type": "display_data",
          "data": {
            "text/plain": [
              "<Figure size 1000x500 with 2 Axes>"
            ],
            "image/png": "[encoded data removed]"
          },
          "metadata": {}
        },
        {
          "output_type": "stream",
          "name": "stderr",
          "text": [
            "Testing: 100%|██████████| 18/18 [15:45<00:00, 52.55s/it, Batch Loss=0.00181, Batch Accuracy=1]"
          ]
        },
        {
          "output_type": "stream",
          "name": "stdout",
          "text": [
            "\n",
            "==================================================\n",
            "Test Metrics:\n",
            "--------------------------------------------------\n",
            "Loss      : 0.0204\n",
            "Accuracy  : 0.9926\n",
            "Precision : 0.9916\n",
            "Recall    : 0.9909\n",
            "F1 Score  : 0.9912\n",
            "ROC AUC   : 0.9924\n",
            "==================================================\n",
            "Metrics for class 0:\n",
            "  Precision : 0.9936\n",
            "  Recall    : 0.9455\n",
            "  F1 Score  : 0.9689\n",
            "  ROC AUC   : 0.9722\n",
            "--------------------\n",
            "Metrics for class 1:\n",
            "  Precision : 0.9905\n",
            "  Recall    : 0.9874\n",
            "  F1 Score  : 0.9889\n",
            "  ROC AUC   : 0.9918\n",
            "--------------------\n",
            "Metrics for class 2:\n",
            "  Precision : 0.9916\n",
            "  Recall    : 1.0000\n",
            "  F1 Score  : 0.9958\n",
            "  ROC AUC   : 0.9777\n",
            "--------------------\n",
            "Summary Classification Report:\n",
            "              precision    recall  f1-score   support\n",
            "\n",
            "           0       0.99      0.95      0.97       165\n",
            "           1       0.99      0.99      0.99       317\n",
            "           2       0.99      1.00      1.00       944\n",
            "\n",
            "   micro avg       0.99      0.99      0.99      1426\n",
            "   macro avg       0.99      0.98      0.98      1426\n",
            "weighted avg       0.99      0.99      0.99      1426\n",
            " samples avg       0.98      0.98      0.98      1426\n",
            "\n"
          ]
        },
        {
          "output_type": "stream",
          "name": "stderr",
          "text": [
            "\n"
          ]
        }
      ]
    }
  ]
}